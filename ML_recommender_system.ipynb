{
  "nbformat": 4,
  "nbformat_minor": 0,
  "metadata": {
    "colab": {
      "provenance": []
    },
    "kernelspec": {
      "name": "python3",
      "display_name": "Python 3"
    },
    "language_info": {
      "name": "python"
    }
  },
  "cells": [
    {
      "cell_type": "markdown",
      "source": [
        "# Recomendation System"
      ],
      "metadata": {
        "id": "R1ccqHjFNEjm"
      }
    },
    {
      "cell_type": "code",
      "execution_count": null,
      "metadata": {
        "id": "vTOfMc18NC88"
      },
      "outputs": [],
      "source": [
        "import pandas as pd\n",
        "from sklearn.cluster import KMeans\n",
        "import numpy as np"
      ]
    },
    {
      "cell_type": "code",
      "source": [
        "# Transformando o .csv em DataFrame\n",
        "df = pd.read_csv('dados.csv', sep=',')"
      ],
      "metadata": {
        "id": "gwqxz6bbO9Lc"
      },
      "execution_count": null,
      "outputs": []
    },
    {
      "cell_type": "code",
      "source": [
        "# See what we have here\n",
        "# df.head()"
      ],
      "metadata": {
        "id": "0EyLcO9ZP0fp"
      },
      "execution_count": null,
      "outputs": []
    },
    {
      "cell_type": "markdown",
      "source": [
        "It's important to remember that we have empty values and uninteresting columns like id, tipo, data_publicacao and num_reacoes.\n",
        "\n",
        "Let's clean the dataframe."
      ],
      "metadata": {
        "id": "bAqQ39qzPG6N"
      }
    },
    {
      "cell_type": "code",
      "source": [
        "# Cleaning the DataFrame\n",
        "df = df.drop(['id', 'tipo', 'data_publicacao', 'num_reacoes'], axis=1)\n",
        "df = df.dropna()"
      ],
      "metadata": {
        "id": "e-ej9LOHPY8m"
      },
      "execution_count": null,
      "outputs": []
    },
    {
      "cell_type": "code",
      "source": [
        "# Check again\n",
        "# df.head()\n",
        "\n",
        "# Transforming the dataframe to array\n",
        "data = df.to_numpy()"
      ],
      "metadata": {
        "id": "j4-IYxilQL87"
      },
      "execution_count": null,
      "outputs": []
    },
    {
      "cell_type": "markdown",
      "source": [
        "Now with the data trated we can advance and pass into our model\n",
        "the dataframe (remember to transform to array type) and start training"
      ],
      "metadata": {
        "id": "E7-1K4fxRYjQ"
      }
    },
    {
      "cell_type": "code",
      "source": [
        "# According to the exercise we must divide into 3 groups\n",
        "model = KMeans(n_clusters=3)"
      ],
      "metadata": {
        "id": "TephTh1pRSn7"
      },
      "execution_count": null,
      "outputs": []
    },
    {
      "cell_type": "code",
      "source": [
        "# Watching the result\n",
        "result = model.fit_predict(data)\n",
        "print(result)"
      ],
      "metadata": {
        "colab": {
          "base_uri": "https://localhost:8080/"
        },
        "id": "bSRA9LyNT6jR",
        "outputId": "ffdb91f4-210f-40f0-8003-aa6a9afdd947"
      },
      "execution_count": null,
      "outputs": [
        {
          "output_type": "stream",
          "name": "stdout",
          "text": [
            "[1 1 1 ... 1 1 1]\n"
          ]
        }
      ]
    },
    {
      "cell_type": "code",
      "source": [
        "# Append into the groups\n",
        "groups = [\n",
        "  [],\n",
        "  [],\n",
        "  []\n",
        "]\n",
        "\n",
        "for i in range(len(result)):\n",
        "  groups[result[i]].append(data[i])"
      ],
      "metadata": {
        "id": "6kFlWJF6UrA-"
      },
      "execution_count": null,
      "outputs": []
    },
    {
      "cell_type": "code",
      "source": [
        "# Results by groups\n",
        "# for group in groups:\n",
        "#   print(np.sum(group, axis=0))"
      ],
      "metadata": {
        "id": "zM2jxGS9VGhu"
      },
      "execution_count": null,
      "outputs": []
    },
    {
      "cell_type": "code",
      "source": [
        "# Predicting user group by answer\n",
        "emotions = ['comentários', 'compartilhamentos', 'Likes', 'Loves', 'Wows', 'Risos', 'Carinha Triste', 'Raiva']\n",
        "total_emotions = []\n",
        "\n",
        "print('Informe os dados da postagem para que seja dito o grupo vinculado')\n",
        "print('------------------------------------------------------------------')\n",
        "for i in range(len(emotions)):\n",
        "  total = int(input(f'Número de {emotions[i]}: '))\n",
        "  total_emotions.append(total)"
      ],
      "metadata": {
        "colab": {
          "base_uri": "https://localhost:8080/"
        },
        "id": "HpB1SIbrZZbh",
        "outputId": "9ec6da19-3f23-45f0-cd19-46b7a6f80be2"
      },
      "execution_count": null,
      "outputs": [
        {
          "name": "stdout",
          "output_type": "stream",
          "text": [
            "Informe os dados da postagem para que seja dito o grupo vinculado\n",
            "------------------------------------------------------------------\n",
            "Número de comentários: 100\n",
            "Número de compartilhamentos: 856\n",
            "Número de Likes: 1234\n",
            "Número de Loves: 345\n",
            "Número de Wows: 235\n",
            "Número de Risos: 100\n",
            "Número de Carinha Triste: 434\n",
            "Número de Raiva: 543\n"
          ]
        }
      ]
    },
    {
      "cell_type": "code",
      "source": [
        "# Checking what group this user will be alocated\n",
        "user_group = model.predict([total_emotions])"
      ],
      "metadata": {
        "id": "TVznVNoGagFD"
      },
      "execution_count": null,
      "outputs": []
    },
    {
      "cell_type": "code",
      "source": [
        "print(f'O usuário pertence ao grupo {user_group[0]}')"
      ],
      "metadata": {
        "colab": {
          "base_uri": "https://localhost:8080/"
        },
        "id": "PL0IirGGc8-y",
        "outputId": "9016467d-dd46-4252-da34-ab85b552ac49"
      },
      "execution_count": null,
      "outputs": [
        {
          "output_type": "stream",
          "name": "stdout",
          "text": [
            "O usuário pertence ao grupo 1\n"
          ]
        }
      ]
    }
  ]
}